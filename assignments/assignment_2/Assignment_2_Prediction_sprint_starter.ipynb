{
  "nbformat": 4,
  "nbformat_minor": 0,
  "metadata": {
    "colab": {
      "name": "Assignment 2: Prediction sprint",
      "version": "0.3.2",
      "provenance": [],
      "toc_visible": true
    },
    "kernelspec": {
      "name": "python3",
      "display_name": "Python 3"
    }
  },
  "cells": [
    {
      "metadata": {
        "id": "sisd5Wz0Pz06",
        "colab_type": "text"
      },
      "cell_type": "markdown",
      "source": [
        "# Predicting Regions and the Nomad Score \n",
        "\n",
        "In the first assignment you were working with the city and trips data from Nomadlist, exploring city-characteristics, latent grouping and popularity of resulting clusters over time.\n",
        "\n",
        "In this assignment you are going to work again with the city data, however now you will be exploring supervised learning to predict the Region (aka. continent given city-characteristics) and the Nomad Score.\n",
        "\n",
        "- The first is a classification problem like in the wine-presentation in class (there are a number of descrete classes and you need to predict which one it is)\n",
        "- The second is a regression problem where you will have to estimate a continuous value.\n",
        "\n",
        "Data has been preprocessed for you and you don't have to worry about that. We also imputed missing values and handled outliers.\n",
        "\n",
        "However, you will have to perform feature scaling (normalization, standardization).\n",
        "\n",
        "**While the outputs are preserved, many parts of the starter code have been replaced with \\*\\*\\*\\* that you have to complete **\n",
        "\n",
        "You tasks are (Aside from completing this notebook)\n",
        "\n",
        "- Add min 2 further algorithms (2 for classification, 2 for regression)\n",
        "- Can you increase the accuracy on the test-set (classification to aroung 90% and regression to R2 ~ 0.55)\n",
        "- Explain what you observe and what that means. \n",
        "- Interpret the results. \n",
        "- You may add visualisations if you find it helpful."
      ]
    },
    {
      "metadata": {
        "id": "bhmJIlwRe6Og",
        "colab_type": "code",
        "colab": {}
      },
      "cell_type": "code",
      "source": [
        "# Loading necessary libraries\n",
        "\n",
        "import pandas as pd\n",
        "import numpy as np\n",
        "import matplotlib.pyplot as plt\n",
        "import seaborn as sns\n",
        "%matplotlib inline"
      ],
      "execution_count": 0,
      "outputs": []
    },
    {
      "metadata": {
        "id": "9LiyrcJDPtvK",
        "colab_type": "code",
        "colab": {}
      },
      "cell_type": "code",
      "source": [
        "# Loading the data (we will now load the Data directly from the web)\n",
        "# If you want you can still use the usual way, downloading the data first\n",
        "\n",
        "cities_url = 'https://github.com/SDS-AAU/M1-2018/raw/master/assignments/assignment_2/cities_predict.csv'\n",
        "\n",
        "cities_predict = pd.read_csv(cities_url)"
      ],
      "execution_count": 0,
      "outputs": []
    },
    {
      "metadata": {
        "id": "xtMzeytJfLng",
        "colab_type": "code",
        "colab": {
          "base_uri": "https://localhost:8080/",
          "height": 646
        },
        "outputId": "b0905117-9ea2-455b-9fec-f41b57f0acda"
      },
      "cell_type": "code",
      "source": [
        "# Checking the variables\n",
        "\n",
        "cities_predict.info()"
      ],
      "execution_count": 3,
      "outputs": [
        {
          "output_type": "stream",
          "text": [
            "<class 'pandas.core.frame.DataFrame'>\n",
            "RangeIndex: 730 entries, 0 to 729\n",
            "Data columns (total 32 columns):\n",
            "1br_studio_rent_in_center    730 non-null float64\n",
            "adult_nightlife              730 non-null float64\n",
            "air_quality_(year-round)     730 non-null float64\n",
            "airbnb_(monthly)             730 non-null float64\n",
            "cashless_society             730 non-null float64\n",
            "coca-cola                    730 non-null float64\n",
            "coffee                       730 non-null float64\n",
            "cost_of_living               730 non-null float64\n",
            "cost_of_living_for_expat     730 non-null float64\n",
            "cost_of_living_for_local     730 non-null float64\n",
            "female_friendly              730 non-null float64\n",
            "freedom_of_speech            730 non-null float64\n",
            "friendly_to_foreigners       730 non-null float64\n",
            "fun                          730 non-null float64\n",
            "happiness                    730 non-null float64\n",
            "healthcare                   730 non-null float64\n",
            "internet                     730 non-null float64\n",
            "lgbt_friendly                730 non-null float64\n",
            "nightlife                    730 non-null float64\n",
            "peace                        730 non-null float64\n",
            "quality_of_life              730 non-null float64\n",
            "racial_tolerance             730 non-null float64\n",
            "religious_government         730 non-null float64\n",
            "safe_tap_water               730 non-null float64\n",
            "safety                       730 non-null float64\n",
            "startup_score                730 non-null float64\n",
            "traffic_safety               730 non-null float64\n",
            "walkability                  730 non-null float64\n",
            "nomad_score                  730 non-null float64\n",
            "region                       730 non-null object\n",
            "country                      730 non-null object\n",
            "place_slug                   730 non-null object\n",
            "dtypes: float64(29), object(3)\n",
            "memory usage: 182.6+ KB\n"
          ],
          "name": "stdout"
        }
      ]
    },
    {
      "metadata": {
        "id": "BKAw-s4lfEOR",
        "colab_type": "code",
        "colab": {
          "base_uri": "https://localhost:8080/",
          "height": 363
        },
        "outputId": "46f87098-107c-4b0b-c702-20c81010be8a"
      },
      "cell_type": "code",
      "source": [
        "# Exploring the data (a bit)\n",
        "\n",
        "cities_predict.describe()"
      ],
      "execution_count": 65,
      "outputs": [
        {
          "output_type": "execute_result",
          "data": {
            "text/html": [
              "<div>\n",
              "<style scoped>\n",
              "    .dataframe tbody tr th:only-of-type {\n",
              "        vertical-align: middle;\n",
              "    }\n",
              "\n",
              "    .dataframe tbody tr th {\n",
              "        vertical-align: top;\n",
              "    }\n",
              "\n",
              "    .dataframe thead th {\n",
              "        text-align: right;\n",
              "    }\n",
              "</style>\n",
              "<table border=\"1\" class=\"dataframe\">\n",
              "  <thead>\n",
              "    <tr style=\"text-align: right;\">\n",
              "      <th></th>\n",
              "      <th>1br_studio_rent_in_center</th>\n",
              "      <th>adult_nightlife</th>\n",
              "      <th>air_quality_(year-round)</th>\n",
              "      <th>airbnb_(monthly)</th>\n",
              "      <th>cashless_society</th>\n",
              "      <th>coca-cola</th>\n",
              "      <th>coffee</th>\n",
              "      <th>cost_of_living</th>\n",
              "      <th>cost_of_living_for_expat</th>\n",
              "      <th>cost_of_living_for_local</th>\n",
              "      <th>...</th>\n",
              "      <th>peace</th>\n",
              "      <th>quality_of_life</th>\n",
              "      <th>racial_tolerance</th>\n",
              "      <th>religious_government</th>\n",
              "      <th>safe_tap_water</th>\n",
              "      <th>safety</th>\n",
              "      <th>startup_score</th>\n",
              "      <th>traffic_safety</th>\n",
              "      <th>walkability</th>\n",
              "      <th>nomad_score</th>\n",
              "    </tr>\n",
              "  </thead>\n",
              "  <tbody>\n",
              "    <tr>\n",
              "      <th>count</th>\n",
              "      <td>730.000000</td>\n",
              "      <td>730.000000</td>\n",
              "      <td>730.000000</td>\n",
              "      <td>730.000000</td>\n",
              "      <td>730.000000</td>\n",
              "      <td>730.000000</td>\n",
              "      <td>730.000000</td>\n",
              "      <td>730.000000</td>\n",
              "      <td>730.000000</td>\n",
              "      <td>730.000000</td>\n",
              "      <td>...</td>\n",
              "      <td>730.000000</td>\n",
              "      <td>730.000000</td>\n",
              "      <td>730.000000</td>\n",
              "      <td>730.000000</td>\n",
              "      <td>730.000000</td>\n",
              "      <td>730.000000</td>\n",
              "      <td>730.000000</td>\n",
              "      <td>730.000000</td>\n",
              "      <td>730.000000</td>\n",
              "      <td>730.000000</td>\n",
              "    </tr>\n",
              "    <tr>\n",
              "      <th>mean</th>\n",
              "      <td>657.025616</td>\n",
              "      <td>2.106849</td>\n",
              "      <td>40.607051</td>\n",
              "      <td>1708.223126</td>\n",
              "      <td>1.893996</td>\n",
              "      <td>1.338260</td>\n",
              "      <td>2.481932</td>\n",
              "      <td>2.187671</td>\n",
              "      <td>1445.154630</td>\n",
              "      <td>886.850092</td>\n",
              "      <td>...</td>\n",
              "      <td>2.489041</td>\n",
              "      <td>2.887671</td>\n",
              "      <td>2.133738</td>\n",
              "      <td>0.210959</td>\n",
              "      <td>0.475342</td>\n",
              "      <td>2.760274</td>\n",
              "      <td>2.927397</td>\n",
              "      <td>3.473973</td>\n",
              "      <td>3.272603</td>\n",
              "      <td>3.905953</td>\n",
              "    </tr>\n",
              "    <tr>\n",
              "      <th>std</th>\n",
              "      <td>474.716605</td>\n",
              "      <td>0.358448</td>\n",
              "      <td>44.043640</td>\n",
              "      <td>947.798240</td>\n",
              "      <td>0.756963</td>\n",
              "      <td>0.869454</td>\n",
              "      <td>1.271214</td>\n",
              "      <td>0.868034</td>\n",
              "      <td>747.402010</td>\n",
              "      <td>513.182398</td>\n",
              "      <td>...</td>\n",
              "      <td>1.011872</td>\n",
              "      <td>0.360591</td>\n",
              "      <td>0.892063</td>\n",
              "      <td>0.408269</td>\n",
              "      <td>0.499734</td>\n",
              "      <td>0.904984</td>\n",
              "      <td>0.678043</td>\n",
              "      <td>0.948615</td>\n",
              "      <td>1.210806</td>\n",
              "      <td>0.432596</td>\n",
              "    </tr>\n",
              "    <tr>\n",
              "      <th>min</th>\n",
              "      <td>25.675164</td>\n",
              "      <td>2.000000</td>\n",
              "      <td>1.000000</td>\n",
              "      <td>231.893886</td>\n",
              "      <td>0.404660</td>\n",
              "      <td>0.000000</td>\n",
              "      <td>0.000000</td>\n",
              "      <td>1.000000</td>\n",
              "      <td>272.454326</td>\n",
              "      <td>52.370824</td>\n",
              "      <td>...</td>\n",
              "      <td>1.000000</td>\n",
              "      <td>1.000000</td>\n",
              "      <td>0.342242</td>\n",
              "      <td>0.000000</td>\n",
              "      <td>0.000000</td>\n",
              "      <td>1.000000</td>\n",
              "      <td>1.000000</td>\n",
              "      <td>1.000000</td>\n",
              "      <td>1.000000</td>\n",
              "      <td>2.260000</td>\n",
              "    </tr>\n",
              "    <tr>\n",
              "      <th>25%</th>\n",
              "      <td>314.000000</td>\n",
              "      <td>2.000000</td>\n",
              "      <td>16.000000</td>\n",
              "      <td>1095.452999</td>\n",
              "      <td>1.000000</td>\n",
              "      <td>0.580000</td>\n",
              "      <td>1.442500</td>\n",
              "      <td>1.000000</td>\n",
              "      <td>790.978835</td>\n",
              "      <td>476.250000</td>\n",
              "      <td>...</td>\n",
              "      <td>2.000000</td>\n",
              "      <td>3.000000</td>\n",
              "      <td>1.231386</td>\n",
              "      <td>0.000000</td>\n",
              "      <td>0.000000</td>\n",
              "      <td>2.000000</td>\n",
              "      <td>3.000000</td>\n",
              "      <td>3.000000</td>\n",
              "      <td>2.000000</td>\n",
              "      <td>3.630000</td>\n",
              "    </tr>\n",
              "    <tr>\n",
              "      <th>50%</th>\n",
              "      <td>554.000000</td>\n",
              "      <td>2.000000</td>\n",
              "      <td>24.000000</td>\n",
              "      <td>1495.000000</td>\n",
              "      <td>2.000000</td>\n",
              "      <td>1.185000</td>\n",
              "      <td>2.405000</td>\n",
              "      <td>2.000000</td>\n",
              "      <td>1302.000000</td>\n",
              "      <td>803.500000</td>\n",
              "      <td>...</td>\n",
              "      <td>3.000000</td>\n",
              "      <td>3.000000</td>\n",
              "      <td>2.000000</td>\n",
              "      <td>0.000000</td>\n",
              "      <td>0.000000</td>\n",
              "      <td>3.000000</td>\n",
              "      <td>3.000000</td>\n",
              "      <td>4.000000</td>\n",
              "      <td>4.000000</td>\n",
              "      <td>3.965000</td>\n",
              "    </tr>\n",
              "    <tr>\n",
              "      <th>75%</th>\n",
              "      <td>866.000000</td>\n",
              "      <td>2.000000</td>\n",
              "      <td>50.000000</td>\n",
              "      <td>2105.000000</td>\n",
              "      <td>2.317563</td>\n",
              "      <td>1.940000</td>\n",
              "      <td>3.467500</td>\n",
              "      <td>3.000000</td>\n",
              "      <td>1955.750000</td>\n",
              "      <td>1192.000000</td>\n",
              "      <td>...</td>\n",
              "      <td>3.000000</td>\n",
              "      <td>3.000000</td>\n",
              "      <td>3.000000</td>\n",
              "      <td>0.000000</td>\n",
              "      <td>1.000000</td>\n",
              "      <td>3.000000</td>\n",
              "      <td>3.000000</td>\n",
              "      <td>4.000000</td>\n",
              "      <td>4.000000</td>\n",
              "      <td>4.250000</td>\n",
              "    </tr>\n",
              "    <tr>\n",
              "      <th>max</th>\n",
              "      <td>2783.000000</td>\n",
              "      <td>4.000000</td>\n",
              "      <td>368.000000</td>\n",
              "      <td>7839.000000</td>\n",
              "      <td>4.545913</td>\n",
              "      <td>5.000000</td>\n",
              "      <td>8.610000</td>\n",
              "      <td>4.000000</td>\n",
              "      <td>4147.000000</td>\n",
              "      <td>2980.000000</td>\n",
              "      <td>...</td>\n",
              "      <td>4.000000</td>\n",
              "      <td>4.000000</td>\n",
              "      <td>4.000000</td>\n",
              "      <td>1.000000</td>\n",
              "      <td>1.000000</td>\n",
              "      <td>4.000000</td>\n",
              "      <td>4.000000</td>\n",
              "      <td>4.000000</td>\n",
              "      <td>4.000000</td>\n",
              "      <td>4.970000</td>\n",
              "    </tr>\n",
              "  </tbody>\n",
              "</table>\n",
              "<p>8 rows × 29 columns</p>\n",
              "</div>"
            ],
            "text/plain": [
              "       1br_studio_rent_in_center  adult_nightlife  air_quality_(year-round)  \\\n",
              "count                 730.000000       730.000000                730.000000   \n",
              "mean                  657.025616         2.106849                 40.607051   \n",
              "std                   474.716605         0.358448                 44.043640   \n",
              "min                    25.675164         2.000000                  1.000000   \n",
              "25%                   314.000000         2.000000                 16.000000   \n",
              "50%                   554.000000         2.000000                 24.000000   \n",
              "75%                   866.000000         2.000000                 50.000000   \n",
              "max                  2783.000000         4.000000                368.000000   \n",
              "\n",
              "       airbnb_(monthly)  cashless_society   coca-cola      coffee  \\\n",
              "count        730.000000        730.000000  730.000000  730.000000   \n",
              "mean        1708.223126          1.893996    1.338260    2.481932   \n",
              "std          947.798240          0.756963    0.869454    1.271214   \n",
              "min          231.893886          0.404660    0.000000    0.000000   \n",
              "25%         1095.452999          1.000000    0.580000    1.442500   \n",
              "50%         1495.000000          2.000000    1.185000    2.405000   \n",
              "75%         2105.000000          2.317563    1.940000    3.467500   \n",
              "max         7839.000000          4.545913    5.000000    8.610000   \n",
              "\n",
              "       cost_of_living  cost_of_living_for_expat  cost_of_living_for_local  \\\n",
              "count      730.000000                730.000000                730.000000   \n",
              "mean         2.187671               1445.154630                886.850092   \n",
              "std          0.868034                747.402010                513.182398   \n",
              "min          1.000000                272.454326                 52.370824   \n",
              "25%          1.000000                790.978835                476.250000   \n",
              "50%          2.000000               1302.000000                803.500000   \n",
              "75%          3.000000               1955.750000               1192.000000   \n",
              "max          4.000000               4147.000000               2980.000000   \n",
              "\n",
              "          ...            peace  quality_of_life  racial_tolerance  \\\n",
              "count     ...       730.000000       730.000000        730.000000   \n",
              "mean      ...         2.489041         2.887671          2.133738   \n",
              "std       ...         1.011872         0.360591          0.892063   \n",
              "min       ...         1.000000         1.000000          0.342242   \n",
              "25%       ...         2.000000         3.000000          1.231386   \n",
              "50%       ...         3.000000         3.000000          2.000000   \n",
              "75%       ...         3.000000         3.000000          3.000000   \n",
              "max       ...         4.000000         4.000000          4.000000   \n",
              "\n",
              "       religious_government  safe_tap_water      safety  startup_score  \\\n",
              "count            730.000000      730.000000  730.000000     730.000000   \n",
              "mean               0.210959        0.475342    2.760274       2.927397   \n",
              "std                0.408269        0.499734    0.904984       0.678043   \n",
              "min                0.000000        0.000000    1.000000       1.000000   \n",
              "25%                0.000000        0.000000    2.000000       3.000000   \n",
              "50%                0.000000        0.000000    3.000000       3.000000   \n",
              "75%                0.000000        1.000000    3.000000       3.000000   \n",
              "max                1.000000        1.000000    4.000000       4.000000   \n",
              "\n",
              "       traffic_safety  walkability  nomad_score  \n",
              "count      730.000000   730.000000   730.000000  \n",
              "mean         3.473973     3.272603     3.905953  \n",
              "std          0.948615     1.210806     0.432596  \n",
              "min          1.000000     1.000000     2.260000  \n",
              "25%          3.000000     2.000000     3.630000  \n",
              "50%          4.000000     4.000000     3.965000  \n",
              "75%          4.000000     4.000000     4.250000  \n",
              "max          4.000000     4.000000     4.970000  \n",
              "\n",
              "[8 rows x 29 columns]"
            ]
          },
          "metadata": {
            "tags": []
          },
          "execution_count": 65
        }
      ]
    },
    {
      "metadata": {
        "id": "97jNB0GwfZmN",
        "colab_type": "text"
      },
      "cell_type": "markdown",
      "source": [
        "As you can see, all variables but \"region\", \"country\" and \"place_slug\" are already nummerical floats.\n",
        "Remember that you can select the these  using iloc indexer\n",
        "\n",
        "**To keep thigns easy and avoid confusion: Please do not use the Nomad Score as an input for any models**\n",
        "\n",
        "Also, the data is on very different scales (see means and std differences), and thus should be scaled."
      ]
    },
    {
      "metadata": {
        "id": "wGjdQjKdfJon",
        "colab_type": "code",
        "colab": {}
      },
      "cell_type": "code",
      "source": [
        "# We extract all nummerical values\n",
        "only_nummerical = cities_predict.iloc[:,:28]"
      ],
      "execution_count": 0,
      "outputs": []
    },
    {
      "metadata": {
        "id": "6wN6gGwpgm_C",
        "colab_type": "code",
        "colab": {}
      },
      "cell_type": "code",
      "source": [
        "# We extract the regions column (that we want to predict)\n",
        "region = cities_predict.iloc[:,29]"
      ],
      "execution_count": 0,
      "outputs": []
    },
    {
      "metadata": {
        "id": "yJSh2tQLf2sM",
        "colab_type": "code",
        "colab": {}
      },
      "cell_type": "code",
      "source": [
        "# We extract the nomad_score column (that we want to predict)\n",
        "nomad_score = cities_predict.iloc[:,28]"
      ],
      "execution_count": 0,
      "outputs": []
    },
    {
      "metadata": {
        "id": "eptE0fUVf5fT",
        "colab_type": "code",
        "colab": {
          "base_uri": "https://localhost:8080/",
          "height": 646
        },
        "outputId": "32d30f72-c6bb-433a-ea0b-d5b38fff5b43"
      },
      "cell_type": "code",
      "source": [
        "print('### Nummerical values ###')\n",
        "print(only_nummerical.head(3))\n",
        "\n",
        "print('### Regions ###')\n",
        "print(region.head(3))\n",
        "\n",
        "print('### Nomad Score ###')\n",
        "print(nomad_score.head(3))"
      ],
      "execution_count": 69,
      "outputs": [
        {
          "output_type": "stream",
          "text": [
            "### Nummerical values ###\n",
            "   1br_studio_rent_in_center  adult_nightlife  air_quality_(year-round)  \\\n",
            "0                      492.0              4.0                      42.0   \n",
            "1                      223.0              3.0                      19.0   \n",
            "2                      503.0              2.0                      68.0   \n",
            "\n",
            "   airbnb_(monthly)  cashless_society  coca-cola  coffee  cost_of_living  \\\n",
            "0             946.0          1.000000       0.70    1.40             3.0   \n",
            "1             976.0          1.000000       0.63    1.11             3.0   \n",
            "2            1312.0          1.616589       0.54    0.70             3.0   \n",
            "\n",
            "   cost_of_living_for_expat  cost_of_living_for_local     ...       nightlife  \\\n",
            "0                     961.0                     626.0     ...             3.0   \n",
            "1                     697.0                     349.0     ...             3.0   \n",
            "2                    1064.0                     631.0     ...             2.0   \n",
            "\n",
            "   peace  quality_of_life  racial_tolerance  religious_government  \\\n",
            "0    2.0              3.0          1.000000                   0.0   \n",
            "1    2.0              3.0          1.935908                   0.0   \n",
            "2    1.0              3.0          1.277287                   1.0   \n",
            "\n",
            "   safe_tap_water  safety  startup_score  traffic_safety  walkability  \n",
            "0             0.0     1.0            3.0             4.0          4.0  \n",
            "1             0.0     2.0            3.0             4.0          4.0  \n",
            "2             0.0     3.0            2.0             1.0          1.0  \n",
            "\n",
            "[3 rows x 28 columns]\n",
            "### Regions ###\n",
            "0    Latin America\n",
            "1    Latin America\n",
            "2      Middle East\n",
            "Name: region, dtype: object\n",
            "### Nomad Score ###\n",
            "0    4.03\n",
            "1    4.51\n",
            "2    4.45\n",
            "Name: nomad_score, dtype: float64\n"
          ],
          "name": "stdout"
        }
      ]
    },
    {
      "metadata": {
        "id": "ueFkzb4SiGN6",
        "colab_type": "text"
      },
      "cell_type": "markdown",
      "source": [
        "Since you are not expected to use the Nomad Score for Region-prediction, we can use the same inputs for the classification and the regression exercise below. Therefore, we can feature-scale it already at this point. Here, for the sake of simplicity we standardize all variables but you may experiment with leaving out dummy variables (0/1)."
      ]
    },
    {
      "metadata": {
        "id": "Z93_SBoeh-d-",
        "colab_type": "code",
        "colab": {}
      },
      "cell_type": "code",
      "source": [
        "# We use the standard scaler here but you can experiment with other approaches to that\n",
        "from sklearn.preprocessing import StandardScaler\n",
        "scaler = StandardScaler()\n",
        "\n",
        "scaled_inputs = scaler.fit_transform(*****)"
      ],
      "execution_count": 0,
      "outputs": []
    },
    {
      "metadata": {
        "id": "vTYvgc4khMIB",
        "colab_type": "text"
      },
      "cell_type": "markdown",
      "source": [
        "## Classification of regions\n",
        "\n",
        "In the following you will be using various classification models to predict the region for each city given only the nummerical variables in cities_predict "
      ]
    },
    {
      "metadata": {
        "id": "aWvUd2lNnQZu",
        "colab_type": "code",
        "colab": {}
      },
      "cell_type": "code",
      "source": [
        "X = scaled_inputs"
      ],
      "execution_count": 0,
      "outputs": []
    },
    {
      "metadata": {
        "id": "6BQjY2HGm3vH",
        "colab_type": "code",
        "colab": {}
      },
      "cell_type": "code",
      "source": [
        "# Encoding categorical data\n",
        "from sklearn.preprocessing import LabelEncoder"
      ],
      "execution_count": 0,
      "outputs": []
    },
    {
      "metadata": {
        "id": "Vhn9-sDpm-Q0",
        "colab_type": "code",
        "colab": {}
      },
      "cell_type": "code",
      "source": [
        "# Define the label encoder to transform region names to numbers\n",
        "labelencoder_y = LabelEncoder()\n",
        "y = labelencoder_y.fit_transform(*****)"
      ],
      "execution_count": 0,
      "outputs": []
    },
    {
      "metadata": {
        "id": "tjPJXbeYnNrc",
        "colab_type": "code",
        "colab": {}
      },
      "cell_type": "code",
      "source": [
        "# Splitting the dataset into the Training set and Test set\n",
        "\n",
        "from sklearn.model_selection import train_test_split\n",
        "\n",
        "X_train, X_test, y_train, y_test = train_test_split(*****, y, test_size = 0.2, random_state = 21)"
      ],
      "execution_count": 0,
      "outputs": []
    },
    {
      "metadata": {
        "id": "u5avWznRnTuu",
        "colab_type": "code",
        "colab": {
          "base_uri": "https://localhost:8080/",
          "height": 85
        },
        "outputId": "72b6e0c6-82c5-4ffe-cd88-b971ef235273"
      },
      "cell_type": "code",
      "source": [
        "# We first import and train a Logistic Regression\n",
        "\n",
        "from sklearn.linear_model import LogisticRegression\n",
        "\n",
        "classifier = LogisticRegression()\n",
        "\n",
        "classifier.fit(*****, y_train)"
      ],
      "execution_count": 78,
      "outputs": [
        {
          "output_type": "execute_result",
          "data": {
            "text/plain": [
              "LogisticRegression(C=1.0, class_weight=None, dual=False, fit_intercept=True,\n",
              "          intercept_scaling=1, max_iter=100, multi_class='ovr', n_jobs=1,\n",
              "          penalty='l2', random_state=21, solver='liblinear', tol=0.0001,\n",
              "          verbose=0, warm_start=False)"
            ]
          },
          "metadata": {
            "tags": []
          },
          "execution_count": 78
        }
      ]
    },
    {
      "metadata": {
        "id": "f8cphI-6nrDK",
        "colab_type": "code",
        "colab": {
          "base_uri": "https://localhost:8080/",
          "height": 51
        },
        "outputId": "88ee2650-8989-48fa-9472-3612a3ac75cf"
      },
      "cell_type": "code",
      "source": [
        "# Applying k-Fold Cross Validation\n",
        "from sklearn.model_selection import cross_val_score\n",
        "\n",
        "accuracies = cross_val_score(estimator = classifier, X = X_train, y = y_train, cv = 10)\n",
        "\n",
        "print(accuracies.mean())\n",
        "print(accuracies.std())"
      ],
      "execution_count": 80,
      "outputs": [
        {
          "output_type": "stream",
          "text": [
            "0.8300912516927175\n",
            "0.03549594450837142\n"
          ],
          "name": "stdout"
        }
      ]
    },
    {
      "metadata": {
        "id": "qJrIl0gTnZLM",
        "colab_type": "code",
        "colab": {
          "base_uri": "https://localhost:8080/",
          "height": 34
        },
        "outputId": "eebce6d8-4c9f-4032-ca07-c147ef6e287d"
      },
      "cell_type": "code",
      "source": [
        "# Check the accuracy of the model\n",
        "classifier.score(X_test, y_test)"
      ],
      "execution_count": 79,
      "outputs": [
        {
          "output_type": "execute_result",
          "data": {
            "text/plain": [
              "0.8493150684931506"
            ]
          },
          "metadata": {
            "tags": []
          },
          "execution_count": 79
        }
      ]
    },
    {
      "metadata": {
        "id": "WRA0ydp6nn2S",
        "colab_type": "code",
        "colab": {}
      },
      "cell_type": "code",
      "source": [
        "# Predicting the test set results from the test-set inputs\n",
        "y_pred = classifier.predict(*****)"
      ],
      "execution_count": 0,
      "outputs": []
    },
    {
      "metadata": {
        "id": "cwcduJu2n1GM",
        "colab_type": "code",
        "colab": {
          "base_uri": "https://localhost:8080/",
          "height": 105
        },
        "outputId": "cdcef4da-6a01-4937-fea8-808e6d678766"
      },
      "cell_type": "code",
      "source": [
        "# Transforming nummerical labels back to Region-names\n",
        "\n",
        "true_regions = labelencoder_y.inverse_transform(y_test)\n",
        "\n",
        "predicted_regions = labelencoder_y.inverse_transform(*****)"
      ],
      "execution_count": 84,
      "outputs": [
        {
          "output_type": "stream",
          "text": [
            "/usr/local/lib/python3.6/dist-packages/sklearn/preprocessing/label.py:151: DeprecationWarning: The truth value of an empty array is ambiguous. Returning False, but in future this will result in an error. Use `array.size > 0` to check that an array is not empty.\n",
            "  if diff:\n",
            "/usr/local/lib/python3.6/dist-packages/sklearn/preprocessing/label.py:151: DeprecationWarning: The truth value of an empty array is ambiguous. Returning False, but in future this will result in an error. Use `array.size > 0` to check that an array is not empty.\n",
            "  if diff:\n"
          ],
          "name": "stderr"
        }
      ]
    },
    {
      "metadata": {
        "id": "BtB9ShNsn6W4",
        "colab_type": "code",
        "colab": {
          "base_uri": "https://localhost:8080/",
          "height": 297
        },
        "outputId": "4652104c-b660-4d32-fcd1-579dbdf6e88f"
      },
      "cell_type": "code",
      "source": [
        "# Creating a pandas DataFrame and cross-tabulation\n",
        "\n",
        "df = pd.DataFrame({'true_regions': true_regions, 'predicted_regions': predicted_regions}) \n",
        "\n",
        "pd.crosstab(*****, df.predicted_regions)"
      ],
      "execution_count": 85,
      "outputs": [
        {
          "output_type": "execute_result",
          "data": {
            "text/html": [
              "<div>\n",
              "<style scoped>\n",
              "    .dataframe tbody tr th:only-of-type {\n",
              "        vertical-align: middle;\n",
              "    }\n",
              "\n",
              "    .dataframe tbody tr th {\n",
              "        vertical-align: top;\n",
              "    }\n",
              "\n",
              "    .dataframe thead th {\n",
              "        text-align: right;\n",
              "    }\n",
              "</style>\n",
              "<table border=\"1\" class=\"dataframe\">\n",
              "  <thead>\n",
              "    <tr style=\"text-align: right;\">\n",
              "      <th>predicted_regions</th>\n",
              "      <th>Africa</th>\n",
              "      <th>Asia</th>\n",
              "      <th>Europe</th>\n",
              "      <th>Latin America</th>\n",
              "      <th>Middle East</th>\n",
              "      <th>North America</th>\n",
              "    </tr>\n",
              "    <tr>\n",
              "      <th>true_regions</th>\n",
              "      <th></th>\n",
              "      <th></th>\n",
              "      <th></th>\n",
              "      <th></th>\n",
              "      <th></th>\n",
              "      <th></th>\n",
              "    </tr>\n",
              "  </thead>\n",
              "  <tbody>\n",
              "    <tr>\n",
              "      <th>Africa</th>\n",
              "      <td>5</td>\n",
              "      <td>2</td>\n",
              "      <td>0</td>\n",
              "      <td>1</td>\n",
              "      <td>1</td>\n",
              "      <td>0</td>\n",
              "    </tr>\n",
              "    <tr>\n",
              "      <th>Asia</th>\n",
              "      <td>0</td>\n",
              "      <td>28</td>\n",
              "      <td>3</td>\n",
              "      <td>1</td>\n",
              "      <td>0</td>\n",
              "      <td>0</td>\n",
              "    </tr>\n",
              "    <tr>\n",
              "      <th>Europe</th>\n",
              "      <td>0</td>\n",
              "      <td>3</td>\n",
              "      <td>43</td>\n",
              "      <td>1</td>\n",
              "      <td>0</td>\n",
              "      <td>2</td>\n",
              "    </tr>\n",
              "    <tr>\n",
              "      <th>Latin America</th>\n",
              "      <td>0</td>\n",
              "      <td>0</td>\n",
              "      <td>0</td>\n",
              "      <td>21</td>\n",
              "      <td>0</td>\n",
              "      <td>1</td>\n",
              "    </tr>\n",
              "    <tr>\n",
              "      <th>Middle East</th>\n",
              "      <td>1</td>\n",
              "      <td>0</td>\n",
              "      <td>0</td>\n",
              "      <td>0</td>\n",
              "      <td>2</td>\n",
              "      <td>0</td>\n",
              "    </tr>\n",
              "    <tr>\n",
              "      <th>North America</th>\n",
              "      <td>0</td>\n",
              "      <td>1</td>\n",
              "      <td>1</td>\n",
              "      <td>0</td>\n",
              "      <td>0</td>\n",
              "      <td>25</td>\n",
              "    </tr>\n",
              "    <tr>\n",
              "      <th>Oceania</th>\n",
              "      <td>0</td>\n",
              "      <td>0</td>\n",
              "      <td>3</td>\n",
              "      <td>0</td>\n",
              "      <td>0</td>\n",
              "      <td>1</td>\n",
              "    </tr>\n",
              "  </tbody>\n",
              "</table>\n",
              "</div>"
            ],
            "text/plain": [
              "predicted_regions  Africa  Asia  Europe  Latin America  Middle East  \\\n",
              "true_regions                                                          \n",
              "Africa                  5     2       0              1            1   \n",
              "Asia                    0    28       3              1            0   \n",
              "Europe                  0     3      43              1            0   \n",
              "Latin America           0     0       0             21            0   \n",
              "Middle East             1     0       0              0            2   \n",
              "North America           0     1       1              0            0   \n",
              "Oceania                 0     0       3              0            0   \n",
              "\n",
              "predicted_regions  North America  \n",
              "true_regions                      \n",
              "Africa                         0  \n",
              "Asia                           0  \n",
              "Europe                         2  \n",
              "Latin America                  1  \n",
              "Middle East                    0  \n",
              "North America                 25  \n",
              "Oceania                        1  "
            ]
          },
          "metadata": {
            "tags": []
          },
          "execution_count": 85
        }
      ]
    },
    {
      "metadata": {
        "id": "p4up9zhYhPmj",
        "colab_type": "text"
      },
      "cell_type": "markdown",
      "source": [
        "## *Predicting* the Nomad Score\n",
        "In the following we will try to predict the nomad score (a continuous variable)"
      ]
    },
    {
      "metadata": {
        "id": "Eh3_iQ_IoLdv",
        "colab_type": "code",
        "colab": {}
      },
      "cell_type": "code",
      "source": [
        "# Our inputs are still the same\n",
        "\n",
        "X = *****"
      ],
      "execution_count": 0,
      "outputs": []
    },
    {
      "metadata": {
        "id": "-LV5sAQ9oprz",
        "colab_type": "code",
        "colab": {}
      },
      "cell_type": "code",
      "source": [
        "# Our output is the Nomad Score\n",
        "\n",
        "y = nomad_score"
      ],
      "execution_count": 0,
      "outputs": []
    },
    {
      "metadata": {
        "id": "w-zQA5wkoxOZ",
        "colab_type": "code",
        "colab": {}
      },
      "cell_type": "code",
      "source": [
        "# Splitting the dataset into the Training set and Test set (since we have a new output variable)\n",
        "\n",
        "from sklearn.model_selection import train_test_split\n",
        "\n",
        "X_train, X_test, y_train, y_test = train_test_split(X, *****, test_size = 0.2, random_state = 21)"
      ],
      "execution_count": 0,
      "outputs": []
    },
    {
      "metadata": {
        "id": "by2J1AiBo4IH",
        "colab_type": "code",
        "colab": {
          "base_uri": "https://localhost:8080/",
          "height": 34
        },
        "outputId": "082cdea2-f286-4de1-9746-a2b35b60b841"
      },
      "cell_type": "code",
      "source": [
        "# Let's fit a simple linear regression model\n",
        "\n",
        "from sklearn.linear_model import LinearRegression\n",
        "\n",
        "regressor = LinearRegression()\n",
        "\n",
        "regressor.fit(*****, *****)"
      ],
      "execution_count": 103,
      "outputs": [
        {
          "output_type": "execute_result",
          "data": {
            "text/plain": [
              "LinearRegression(copy_X=True, fit_intercept=True, n_jobs=1, normalize=False)"
            ]
          },
          "metadata": {
            "tags": []
          },
          "execution_count": 103
        }
      ]
    },
    {
      "metadata": {
        "id": "e0Lp1UvjtA7n",
        "colab_type": "text"
      },
      "cell_type": "markdown",
      "source": [
        "k-fold cross-validation is different with regression problems\n",
        "often you will see people using the r2_score (the more the better) and the RMSE\n",
        "Root Mean Square Error (the lower the better)\n",
        "For a regression probme sklearn will perform k-fold cross validation and return the predicted values (for each slice)\n",
        "Using those and the real values (y_train) you can calculate r2_scores and RMSE"
      ]
    },
    {
      "metadata": {
        "id": "Lh8Ay79jpC46",
        "colab_type": "code",
        "colab": {
          "base_uri": "https://localhost:8080/",
          "height": 68
        },
        "outputId": "bc31d79b-dbeb-464d-b9a9-22c7e6685bf5"
      },
      "cell_type": "code",
      "source": [
        "from sklearn.model_selection import cross_val_predict\n",
        "from sklearn.metrics import r2_score\n",
        "from sklearn.metrics import mean_squared_error\n",
        " \n",
        "\n",
        "predictions = cross_val_predict(estimator = regressor, X = X_train, y = y_train, cv = 10)\n",
        "\n",
        "# RMSE (np.sqrt stands for quare-root)\n",
        "print(np.sqrt(mean_squared_error(y_train, predictions)))\n",
        "\n",
        "# r2_scores\n",
        "print(r2_score(y_train, predictions))\n",
        "\n",
        "# Scoring the regressor (r2-score) on the test-set\n",
        "regressor.score(X_test, y_test)"
      ],
      "execution_count": 126,
      "outputs": [
        {
          "output_type": "stream",
          "text": [
            "0.3258601665443509\n",
            "0.4363039580493796\n"
          ],
          "name": "stdout"
        },
        {
          "output_type": "execute_result",
          "data": {
            "text/plain": [
              "0.5095913716478288"
            ]
          },
          "metadata": {
            "tags": []
          },
          "execution_count": 126
        }
      ]
    },
    {
      "metadata": {
        "id": "FEWiIDjlu9s-",
        "colab_type": "code",
        "colab": {}
      },
      "cell_type": "code",
      "source": [
        "\n",
        "# Predicting from the held back X_test\n",
        "y_pred = regressor.predict(*****)"
      ],
      "execution_count": 0,
      "outputs": []
    },
    {
      "metadata": {
        "id": "DwYthomRwJ1G",
        "colab_type": "code",
        "colab": {
          "base_uri": "https://localhost:8080/",
          "height": 296
        },
        "outputId": "6b549a80-2689-45a6-912f-a97b7534a1e9"
      },
      "cell_type": "code",
      "source": [
        "sns.regplot(y_test, y_pred)"
      ],
      "execution_count": 124,
      "outputs": [
        {
          "output_type": "execute_result",
          "data": {
            "text/plain": [
              "<matplotlib.axes._subplots.AxesSubplot at 0x7fc52ce5d400>"
            ]
          },
          "metadata": {
            "tags": []
          },
          "execution_count": 124
        },
        {
          "output_type": "display_data",
          "data": {
            "image/png": "[encoded data removed]",
            "text/plain": [
              "<matplotlib.figure.Figure at 0x7fc52ceb8f28>"
            ]
          },
          "metadata": {
            "tags": []
          }
        }
      ]
    }
  ]
}